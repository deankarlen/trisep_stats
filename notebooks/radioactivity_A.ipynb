{
 "cells": [
  {
   "cell_type": "markdown",
   "id": "89aa95a8-962a-4d36-bbec-8d755e365a27",
   "metadata": {},
   "source": [
    "# 1.A: Basic radioactivity analysis\n",
    "\n",
    "**Question:** What is the activity of this radioactive source? \n",
    "\n",
    "To answer this question, we will pretend to use a detector in the lab that counts the number of decays in a fixed period of time.\n",
    "The cells below are set up to work through the analysis. Most of the necessary python code is added during the tutorial itself."
   ]
  },
  {
   "cell_type": "code",
   "id": "a0d7216c-7fbe-45ad-b5f6-f02ccd5eed6e",
   "metadata": {
    "ExecuteTime": {
     "end_time": "2025-06-17T21:19:00.078472Z",
     "start_time": "2025-06-17T21:18:58.975590Z"
    }
   },
   "source": [
    "# Import modules needed for this tutorial\n",
    "\n",
    "from trisep.RadiationCounter import RadiationCounter\n",
    "import numpy as np\n",
    "\n",
    "%matplotlib inline\n",
    "import matplotlib.pyplot as plt\n",
    "plt.style.use('dark_background') # only include this if you use a dark background for Jupyter Lab"
   ],
   "outputs": [],
   "execution_count": 1
  },
  {
   "cell_type": "markdown",
   "id": "648c218c-bd87-4bb0-9922-8231aad0626c",
   "metadata": {},
   "source": [
    "### Construct the lab detector"
   ]
  },
  {
   "cell_type": "code",
   "id": "46e1e284-b42a-4017-afbd-bd152727d8e0",
   "metadata": {
    "ExecuteTime": {
     "end_time": "2025-06-17T21:20:35.227901Z",
     "start_time": "2025-06-17T21:20:35.218869Z"
    }
   },
   "source": [
    "lab_detector = RadiationCounter()"
   ],
   "outputs": [
    {
     "name": "stdout",
     "output_type": "stream",
     "text": [
      "Lab radiation counter built. Default counting time is 10.0 seconds.\n"
     ]
    }
   ],
   "execution_count": 3
  },
  {
   "cell_type": "markdown",
   "id": "e65b0a39-67b8-4a8b-8f3e-bf706966600f",
   "metadata": {},
   "source": [
    "### Make a measurement:\n",
    " - set the timer to 10 seconds\n",
    " - insert the radioactive source\n",
    " - get the number of decays"
   ]
  },
  {
   "cell_type": "code",
   "id": "801c5c9e-e604-499c-9fcb-3d0addf6e4ec",
   "metadata": {
    "ExecuteTime": {
     "end_time": "2025-06-17T21:20:51.460766Z",
     "start_time": "2025-06-17T21:20:41.376772Z"
    }
   },
   "source": [
    "lab_detector.set_counting_time(10) # specified in seconds: You will have to wait that long to get the result!\n",
    "counting_time = lab_detector.get_counting_time() # read back the time to make sure it was set correctly\n",
    "lab_detector.insert_lab_source() # put the radioactive source into the detector\n",
    "\n",
    "lab_detector.start() # reset counter and start timer\n",
    "count = lab_detector.get_count() # get the number of counts"
   ],
   "outputs": [
    {
     "name": "stdout",
     "output_type": "stream",
     "text": [
      "The lab source has been inserted into the counter.\n",
      "Measurement has begun. Please wait 10 seconds.\n",
      "Number of counts observed in 10 seconds was 2\n"
     ]
    }
   ],
   "execution_count": 4
  },
  {
   "cell_type": "code",
   "id": "6dc67c4b-8386-40b2-956c-961c31416ba6",
   "metadata": {
    "ExecuteTime": {
     "end_time": "2025-06-17T21:23:09.188662Z",
     "start_time": "2025-06-17T21:23:09.176610Z"
    }
   },
   "source": [
    "# Estimate the activity from these data\n",
    "\n",
    "activity = count / counting_time # in Bq\n",
    "print(f\"Activity: {activity:.2f} Bq\")"
   ],
   "outputs": [
    {
     "name": "stdout",
     "output_type": "stream",
     "text": [
      "Activity: 0.20 Bq\n"
     ]
    }
   ],
   "execution_count": 5
  },
  {
   "cell_type": "markdown",
   "id": "8f1b1837-4f43-4aec-9180-e7a53c82c372",
   "metadata": {},
   "source": [
    "### Make several measurements"
   ]
  },
  {
   "cell_type": "code",
   "id": "21b95af3-aa17-4610-94df-28d97a3f86ce",
   "metadata": {
    "ExecuteTime": {
     "end_time": "2025-06-17T21:26:10.152705Z",
     "start_time": "2025-06-17T21:25:19.972547Z"
    }
   },
   "source": [
    "# Make a python list having the counts from five measurements\n",
    "\n",
    "counts = []\n",
    "for _ in range(5):\n",
    "    lab_detector.start() # reset counter and start timer\n",
    "    count = lab_detector.get_count() # get the number of counts\n",
    "    counts.append(count)\n",
    "print(\"Counts from measurements:\", counts)\n"
   ],
   "outputs": [
    {
     "name": "stdout",
     "output_type": "stream",
     "text": [
      "Measurement has begun. Please wait 10 seconds.\n",
      "Number of counts observed in 10 seconds was 5\n",
      "Measurement has begun. Please wait 10 seconds.\n",
      "Number of counts observed in 10 seconds was 6\n",
      "Measurement has begun. Please wait 10 seconds.\n",
      "Number of counts observed in 10 seconds was 4\n",
      "Measurement has begun. Please wait 10 seconds.\n",
      "Number of counts observed in 10 seconds was 7\n",
      "Measurement has begun. Please wait 10 seconds.\n",
      "Number of counts observed in 10 seconds was 5\n",
      "Counts from measurements: [5, 6, 4, 7, 5]\n"
     ]
    }
   ],
   "execution_count": 6
  },
  {
   "cell_type": "markdown",
   "id": "b5faade5-6a77-4f9b-bdda-a6899f1e2df3",
   "metadata": {},
   "source": [
    "### Show a histogram"
   ]
  },
  {
   "cell_type": "code",
   "id": "8ac0de41-4d75-4337-a10c-f5e71adb0af6",
   "metadata": {
    "ExecuteTime": {
     "end_time": "2025-06-17T21:26:23.480682Z",
     "start_time": "2025-06-17T21:26:23.345194Z"
    }
   },
   "source": [
    "# The following will show how frequently different counts were seen\n",
    "\n",
    "plt.hist(counts,bins=np.arange(0.,16.,0.5), align='left')\n",
    "plt.show()"
   ],
   "outputs": [
    {
     "data": {
      "text/plain": [
       "<Figure size 640x480 with 1 Axes>"
      ],
      "image/png": "[encoded data removed]"
     },
     "metadata": {},
     "output_type": "display_data"
    }
   ],
   "execution_count": 7
  },
  {
   "cell_type": "markdown",
   "id": "3bcc34d6-2104-4120-8168-66fa1e41d98b",
   "metadata": {},
   "source": [
    "### Summarize your measurements with descriptive statistics"
   ]
  },
  {
   "cell_type": "code",
   "id": "5bf150f8-38e1-4a58-b8e8-3a054943b59a",
   "metadata": {
    "ExecuteTime": {
     "end_time": "2025-06-17T21:27:48.906340Z",
     "start_time": "2025-06-17T21:27:48.880576Z"
    }
   },
   "source": [
    "# Calculate the mean and standard deviation of the counts\n",
    "\n",
    "mean_count = np.mean(counts)\n",
    "std_count = np.std(counts, ddof=1)  # use ddof=1 for sample standard deviation\n",
    "print(f\"Mean count: {mean_count:.2f}, Standard deviation: {std_count:.2f}\")"
   ],
   "outputs": [
    {
     "name": "stdout",
     "output_type": "stream",
     "text": [
      "Mean count: 5.40, Standard deviation: 1.14\n"
     ]
    }
   ],
   "execution_count": 9
  },
  {
   "cell_type": "markdown",
   "id": "b40f587b-6078-4785-a7a2-a5ca539fc88b",
   "metadata": {},
   "source": [
    "## Report your findings using typical notation: activity = $\\hat{a} \\pm \\sigma_a$ Bq"
   ]
  },
  {
   "cell_type": "code",
   "id": "35b14b55-2028-44c0-8f3d-3ed0eaabbbd7",
   "metadata": {
    "ExecuteTime": {
     "end_time": "2025-06-17T21:30:12.035877Z",
     "start_time": "2025-06-17T21:30:12.023258Z"
    }
   },
   "source": [
    "# Report the activity with uncertainty of the activity\n",
    "\n",
    "activity_mean = mean_count / counting_time  # in Bq\n",
    "activity_std = std_count / counting_time  # in Bq\n",
    "print(f\"Activity: {activity_mean:.2f} ± {activity_std:.2f} Bq\")"
   ],
   "outputs": [
    {
     "name": "stdout",
     "output_type": "stream",
     "text": [
      "Activity: 0.54 ± 0.11 Bq\n"
     ]
    }
   ],
   "execution_count": 10
  },
  {
   "metadata": {
    "ExecuteTime": {
     "end_time": "2025-06-17T21:33:19.542570Z",
     "start_time": "2025-06-17T21:33:19.530267Z"
    }
   },
   "cell_type": "code",
   "source": [
    "# Try again, this time using the error in the mean for the uncertainty of the activity\n",
    "activity_error = activity_std / np.sqrt(len(counts))  # standard error of the mean\n",
    "print(f\"Activity: {activity_mean:.2f} ± {activity_error:.2f} Bq\")"
   ],
   "id": "bba28395fc3441f1",
   "outputs": [
    {
     "name": "stdout",
     "output_type": "stream",
     "text": [
      "Activity: 0.54 ± 0.05 Bq\n"
     ]
    }
   ],
   "execution_count": 11
  },
  {
   "metadata": {},
   "cell_type": "code",
   "outputs": [],
   "execution_count": null,
   "source": "",
   "id": "33c2c3d79b6ed9aa"
  }
 ],
 "metadata": {
  "kernelspec": {
   "display_name": "Python 3.6 (with ROOT)",
   "language": "python",
   "name": "python3"
  },
  "language_info": {
   "codemirror_mode": {
    "name": "ipython",
    "version": 3
   },
   "file_extension": ".py",
   "mimetype": "text/x-python",
   "name": "python",
   "nbconvert_exporter": "python",
   "pygments_lexer": "ipython3",
   "version": "3.6.8"
  },
  "toc-showcode": false,
  "toc-showmarkdowntxt": false,
  "toc-showtags": false
 },
 "nbformat": 4,
 "nbformat_minor": 5
}
