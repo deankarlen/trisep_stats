{
 "cells": [
  {
   "cell_type": "markdown",
   "id": "89aa95a8-962a-4d36-bbec-8d755e365a27",
   "metadata": {},
   "source": [
    "# 1.A: Basic radioactivity analysis\n",
    "\n",
    "**Question:** What is the activity of this radioactive source? \n",
    "\n",
    "To answer this question, we will pretend to use a detector in the lab that counts the number of decays in a fixed period of time.\n",
    "The cells below are set up to work through the analysis. Most of the necessary python code is added during the tutorial itself."
   ]
  },
  {
   "cell_type": "code",
   "id": "a0d7216c-7fbe-45ad-b5f6-f02ccd5eed6e",
   "metadata": {},
   "source": [
    "# Import modules needed for this tutorial\n",
    "\n",
    "from trisep.RadiationCounter import RadiationCounter\n",
    "import numpy as np\n",
    "\n",
    "%matplotlib inline\n",
    "import matplotlib.pyplot as plt\n",
    "plt.style.use('dark_background') # only include this if you use a dark background for Jupyter Lab"
   ],
   "outputs": [],
   "execution_count": null
  },
  {
   "cell_type": "markdown",
   "id": "648c218c-bd87-4bb0-9922-8231aad0626c",
   "metadata": {},
   "source": [
    "### Construct the lab detector"
   ]
  },
  {
   "cell_type": "code",
   "id": "46e1e284-b42a-4017-afbd-bd152727d8e0",
   "metadata": {},
   "source": [
    "lab_detector = RadiationCounter()"
   ],
   "outputs": [],
   "execution_count": null
  },
  {
   "cell_type": "markdown",
   "id": "e65b0a39-67b8-4a8b-8f3e-bf706966600f",
   "metadata": {},
   "source": [
    "### Make a measurement:\n",
    " - set the timer to 10 seconds\n",
    " - insert the radioactive source\n",
    " - get the number of decays"
   ]
  },
  {
   "cell_type": "code",
   "id": "801c5c9e-e604-499c-9fcb-3d0addf6e4ec",
   "metadata": {},
   "source": [
    "lab_detector.set_counting_time(10) # specified in seconds: You will have to wait that long to get the result!\n",
    "counting_time = lab_detector.get_counting_time() # read back the time to make sure it was set correctly\n",
    "lab_detector.insert_lab_source() # put the radioactive source into the detector\n",
    "\n",
    "lab_detector.start() # reset counter and start timer\n",
    "count = lab_detector.get_count() # get the number of counts"
   ],
   "outputs": [],
   "execution_count": null
  },
  {
   "cell_type": "code",
   "id": "6dc67c4b-8386-40b2-956c-961c31416ba6",
   "metadata": {},
   "source": [
    "# Estimate the activity from these data\n",
    "\n",
    "activity ="
   ],
   "outputs": [],
   "execution_count": null
  },
  {
   "cell_type": "markdown",
   "id": "8f1b1837-4f43-4aec-9180-e7a53c82c372",
   "metadata": {},
   "source": [
    "### Make several measurements"
   ]
  },
  {
   "cell_type": "code",
   "id": "21b95af3-aa17-4610-94df-28d97a3f86ce",
   "metadata": {},
   "source": [
    "# Make a python list having the counts from five measurements\n",
    "\n",
    "counts = []\n"
   ],
   "outputs": [],
   "execution_count": null
  },
  {
   "cell_type": "markdown",
   "id": "b5faade5-6a77-4f9b-bdda-a6899f1e2df3",
   "metadata": {},
   "source": [
    "### Show a histogram"
   ]
  },
  {
   "cell_type": "code",
   "id": "8ac0de41-4d75-4337-a10c-f5e71adb0af6",
   "metadata": {},
   "source": [
    "# The following will show how frequently different counts were seen\n",
    "\n",
    "plt.hist(counts,bins=np.arange(0.,16.,0.5), align='left')\n",
    "plt.show()"
   ],
   "outputs": [],
   "execution_count": null
  },
  {
   "cell_type": "markdown",
   "id": "3bcc34d6-2104-4120-8168-66fa1e41d98b",
   "metadata": {},
   "source": [
    "### Summarize your measurements with descriptive statistics"
   ]
  },
  {
   "cell_type": "code",
   "id": "5bf150f8-38e1-4a58-b8e8-3a054943b59a",
   "metadata": {},
   "source": "# Calculate the mean and standard deviation of the counts\n",
   "outputs": [],
   "execution_count": null
  },
  {
   "cell_type": "markdown",
   "id": "b40f587b-6078-4785-a7a2-a5ca539fc88b",
   "metadata": {},
   "source": [
    "## Report your findings using typical notation: activity = $\\hat{a} \\pm \\sigma_a$ Bq"
   ]
  },
  {
   "cell_type": "code",
   "id": "35b14b55-2028-44c0-8f3d-3ed0eaabbbd7",
   "metadata": {},
   "source": "# Report the activity with uncertainty of the activity\n",
   "outputs": [],
   "execution_count": null
  },
  {
   "metadata": {},
   "cell_type": "code",
   "source": "",
   "id": "bba28395fc3441f1",
   "outputs": [],
   "execution_count": null
  }
 ],
 "metadata": {
  "kernelspec": {
   "display_name": "Python 3.6 (with ROOT)",
   "language": "python",
   "name": "python3"
  },
  "language_info": {
   "codemirror_mode": {
    "name": "ipython",
    "version": 3
   },
   "file_extension": ".py",
   "mimetype": "text/x-python",
   "name": "python",
   "nbconvert_exporter": "python",
   "pygments_lexer": "ipython3",
   "version": "3.6.8"
  },
  "toc-showcode": false,
  "toc-showmarkdowntxt": false,
  "toc-showtags": false
 },
 "nbformat": 4,
 "nbformat_minor": 5
}
