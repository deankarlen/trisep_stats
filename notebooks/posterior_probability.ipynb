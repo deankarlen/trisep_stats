{
 "cells": [
  {
   "metadata": {},
   "cell_type": "markdown",
   "source": [
    "## Posterior probability\n",
    "\n",
    "* To calculate posterior probabilities, we need to understand joint probability and Bayes theorem.\n",
    "\n",
    "<details>\n",
    "<summary>\n",
    "🔍 Joint probability\n",
    "</summary>\n",
    "\n",
    "* Joint probability is the probability of multiple conditions to be true. Let's limit ourselves to two conditions $A$ and $B$.\n",
    "* The joint probability of $A$ and $B$ is written as $P(A,B)$\n",
    "* If A and B are independent, then $P(A,B) = P(A) P(B)$\n",
    "* If A and B are not independent, then $P(A,B) = P(A|B) P(B)$, where $P(A|B)$ is the conditional probability of $A$ given $B$.\n",
    "\n",
    "</details>\n",
    "\n",
    "<details>\n",
    "<summary>\n",
    "🔍 Bayes theorem\n",
    "</summary>\n",
    "\n",
    "* Bayes theorem is a simple to derive formula to calculate the posterior probability of a hypothesis $A$ given the data $B$.\n",
    "    * In this example, $A$ is hypothesis that the block has mass $m$ and $B$ is the number of coins needed to cause the balance to tilt.\n",
    "* Since $P(A,B) = P(A|B) P(B) = P(B|A) P(A)$, we can rearrange this to get:\n",
    "    * $$P(A|B) = \\frac{P(B|A) P(A)}{P(B)}$$\n",
    "* The power of Bayes theorem is the interpretation of the terms:\n",
    "    * $P(A|B)$ is the **posterior probability** of hypothesis $A$ given data $B$.\n",
    "    * $P(B|A)$ is the probability of the data $B$ given the hypothesis $A$.\n",
    "        * This is called the **likelihood function**, ${\\cal{L}}(A)$.\n",
    "            * This is calculated using the model of the experiment.\n",
    "            * For this problem, it is a function of the mass of the block.\n",
    "    * $P(A)$ is the prior probability of the hypothesis $A$ (prior to observing the data).\n",
    "    * $P(B)$ is the probability of the data $B$ considering all possible hypotheses:\n",
    "        * This is a normalizing constant:\n",
    "            * $P(B) = \\sum_A P(A,B) = \\sum_A P(B|A) P(A)$\n",
    "                * This is the sum of all joint probabilities (over all hypotheses) that produce the data.\n",
    "\n",
    "</details>\n",
    "\n",
    "\n",
    "\n",
    "### Meaning of posterior probability\n",
    "\n",
    "Posterior probability represents our degree of belief in a hypothesis after observing the data.\n",
    " * Each time we observe new data, we can update our belief using Bayes theorem.\n",
    " * We have to start with a prior probability for the hypothesis, which represents our belief before observing the data."
   ],
   "id": "b7cb093d1104246c"
  },
  {
   "metadata": {},
   "cell_type": "markdown",
   "source": [
    "## Examples of posterior probability\n",
    "\n",
    "<details>\n",
    "<summary>\n",
    "🔍 Card color problem\n",
    "</summary>\n",
    "\n",
    "You are given a deck of 24 cards to examine. You find that there are three kinds of cards. 6 are red on both sides, 16 are red on one side and green on the other, and 2 are green on both sides.\n",
    " * a) The deck is shuffled, and a card is selected at random. Without seeing the card, what is the probability that it is a card with both colors?\n",
    " * b) The card is placed on the table, and you see it is red on the top side. What is the probability that it is green on the other side?\n",
    " * c) You look away and the card is flipped in the air like a coin, and lands on the table. The side you see is red. What is the probability that it is green on the other side?\n",
    "\n",
    "</details>"
   ],
   "id": "48312aa549d44fa7"
  },
  {
   "metadata": {
    "ExecuteTime": {
     "end_time": "2025-05-28T11:08:51.060911Z",
     "start_time": "2025-05-28T11:08:51.052841Z"
    }
   },
   "cell_type": "code",
   "source": "# Part (a)",
   "id": "f5f3463c5d2fccc1",
   "outputs": [],
   "execution_count": 2
  },
  {
   "metadata": {
    "ExecuteTime": {
     "end_time": "2025-05-28T11:09:02.089092Z",
     "start_time": "2025-05-28T11:09:02.073432Z"
    }
   },
   "cell_type": "code",
   "source": "# Part (b)",
   "id": "80d4e59f5e048375",
   "outputs": [],
   "execution_count": 3
  },
  {
   "metadata": {
    "ExecuteTime": {
     "end_time": "2025-05-28T11:09:28.515061Z",
     "start_time": "2025-05-28T11:09:28.503991Z"
    }
   },
   "cell_type": "code",
   "source": "# Part (c)",
   "id": "ec9b92aa5e0bc416",
   "outputs": [],
   "execution_count": 4
  },
  {
   "metadata": {},
   "cell_type": "code",
   "outputs": [],
   "execution_count": null,
   "source": "",
   "id": "e79a4fe980a464cf"
  }
 ],
 "metadata": {
  "kernelspec": {
   "display_name": "Python 3",
   "language": "python",
   "name": "python3"
  },
  "language_info": {
   "codemirror_mode": {
    "name": "ipython",
    "version": 2
   },
   "file_extension": ".py",
   "mimetype": "text/x-python",
   "name": "python",
   "nbconvert_exporter": "python",
   "pygments_lexer": "ipython2",
   "version": "2.7.6"
  }
 },
 "nbformat": 4,
 "nbformat_minor": 5
}
