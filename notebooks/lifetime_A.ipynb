{
 "cells": [
  {
   "cell_type": "markdown",
   "id": "e695c328-75d3-4cd4-97f5-8ee8870645ec",
   "metadata": {},
   "source": [
    "# 2.A: Basic lifetime analysis\n",
    "\n",
    "**Question:** What is the lifetime of the isotope being produced?\n",
    "\n",
    "To answer this question, we will pretend to setup an experiment that produces\n",
    "isotopes one at a time, and the decay times are recorded."
   ]
  },
  {
   "cell_type": "code",
   "id": "e579ca12-bbb1-41f4-a45a-6dec54108adc",
   "metadata": {},
   "source": [
    "# Import modules needed for this tutorial\n",
    "from trisep.LifetimeExperiment import LifetimeExperiment\n",
    "import numpy as np\n",
    "from scipy import stats\n",
    "\n",
    "%matplotlib inline\n",
    "import matplotlib.pyplot as plt\n",
    "plt.style.use('dark_background') # only include this if you use a dark background for Jupyter Lab"
   ],
   "outputs": [],
   "execution_count": null
  },
  {
   "cell_type": "code",
   "id": "2a5d19a6-5c4b-4c67-9427-0a2544029663",
   "metadata": {},
   "source": [
    "# Build the lifetime experiment\n",
    "\n",
    "lifetime_experiment = LifetimeExperiment()\n",
    "\n",
    "lifetime_experiment.set_counting_time(10)  # specified in seconds: You will have to wait that long to get the result!\n",
    "counting_time = lifetime_experiment.get_counting_time()  # read back the time to make sure it was set correctly\n",
    "\n",
    "lifetime_experiment.start()\n",
    "lab_times = lifetime_experiment.get_times()\n",
    "print('In',counting_time,'seconds, we saw',len(lab_times),'decays')\n",
    "\n",
    "mean_time = np.mean(lab_times)\n",
    "print('The mean decay time is',round(mean_time,4),'seconds')\n"
   ],
   "outputs": [],
   "execution_count": null
  },
  {
   "cell_type": "code",
   "id": "d45694a5-46e9-4f77-a52f-90dd9a138045",
   "metadata": {},
   "source": [
    "# show a histogram for the observed times\n",
    "\n",
    "plt.hist(lab_times,bins=np.arange(-0.2,0.2,0.01))\n",
    "plt.xlabel('Decay time (s)')\n",
    "plt.show()"
   ],
   "outputs": [],
   "execution_count": null
  },
  {
   "cell_type": "code",
   "id": "c0b622d7-c4fa-4a6e-888c-d2ece5dd9480",
   "metadata": {},
   "source": [
    "# do several runs of the experiment\n",
    "\n",
    "mean_times = []\n",
    "for irun in range(10):\n",
    "    lifetime_experiment.start()\n",
    "    times = lifetime_experiment.get_times()\n",
    "    mean_times.append(np.mean(times))\n",
    "\n",
    "# Calculate some descriptive statistics for these data\n",
    "\n",
    "mean = np.mean(mean_times)\n",
    "std_dev = np.std(mean_times)\n",
    "print('mean=',round(mean,4),'std dev=',round(std_dev,4))"
   ],
   "outputs": [],
   "execution_count": null
  },
  {
   "cell_type": "code",
   "id": "cce477ed-79f1-4954-bc32-8e8f3e80e716",
   "metadata": {},
   "source": [
    "plt.hist(mean_times);\n",
    "plt.xlabel('Mean decay time (s)')\n",
    "plt.ylabel('Frequency')\n",
    "plt.title('Distribution of mean decay times from 10 runs')"
   ],
   "outputs": [],
   "execution_count": null
  },
  {
   "cell_type": "code",
   "id": "800ad3d6-c317-4ebd-8680-817b921cad72",
   "metadata": {},
   "source": [],
   "outputs": [],
   "execution_count": null
  }
 ],
 "metadata": {
  "kernelspec": {
   "display_name": "Python 3.6 (with ROOT)",
   "language": "python",
   "name": "python3"
  },
  "language_info": {
   "codemirror_mode": {
    "name": "ipython",
    "version": 3
   },
   "file_extension": ".py",
   "mimetype": "text/x-python",
   "name": "python",
   "nbconvert_exporter": "python",
   "pygments_lexer": "ipython3",
   "version": "3.6.8"
  }
 },
 "nbformat": 4,
 "nbformat_minor": 5
}
