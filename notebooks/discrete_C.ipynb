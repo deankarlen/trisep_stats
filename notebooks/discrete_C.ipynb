{
 "cells": [
  {
   "metadata": {},
   "cell_type": "markdown",
   "source": [
    "## Discrete Measurement of the mass of a block\n",
    "\n",
    "Consider the discrete measurement of the mass of a block using coins and a balance:\n",
    " * We place coins on the balance until the balance tilts, showing that the mass of the coins is greater than the mass of the block. We report the minimum number of coins that exceed the mass of the block.\n",
    " * To ensure that the measurement is reproducible:\n",
    "   * The mass of each coin is an even number of grams\n",
    "   * The mass of the block is an odd number of grams\n",
    "   * The balance is well designed and lubricated. The difference of one gram will always tip the balance towards the more massive side.\n",
    "\n",
    "### Model #1\n",
    "\n",
    " * the probability for any coin to be 10 g is p2, and the probability for any coin to be 8 g is p1 = 1 - p2.\n",
    "\n",
    "### Interpreting the result\n",
    "\n",
    " * Can we report a point estimate for the mass of the block?\n",
    " * What are the confidence and credible intervals for the mass of the block?"
   ],
   "id": "acb15cc8a3a9ff7f"
  },
  {
   "cell_type": "code",
   "id": "initial_id",
   "metadata": {
    "collapsed": true,
    "ExecuteTime": {
     "end_time": "2025-05-28T10:08:58.628970Z",
     "start_time": "2025-05-28T10:08:58.289344Z"
    }
   },
   "source": [
    "import numpy as np\n",
    "from scipy import stats\n",
    "import matplotlib.pyplot as plt"
   ],
   "outputs": [],
   "execution_count": 1
  },
  {
   "metadata": {
    "ExecuteTime": {
     "end_time": "2025-05-28T10:11:11.749685Z",
     "start_time": "2025-05-28T10:11:11.733563Z"
    }
   },
   "cell_type": "code",
   "source": [
    "# Step 1: Model the experiment: for a given block mass, calculate the possible numbers of coins and the probabilities for each number of coins. This is tricky, so the code is provided below.\n",
    "\n",
    "def get_probabilities(m_block, p2, m_coin1=8, m_coin2=10):\n",
    "    \"\"\"\n",
    "    Calculate the possible outcomes for a given block mass and coin probabilities.\n",
    "\n",
    "    Parameters:\n",
    "    m_block (int): Mass of the block in grams.\n",
    "    p2 (float): Probability of a coin being of second type.\n",
    "    m_coin1 (int): Mass of the first type of coin in grams (default is 8 g).\n",
    "    m_coin2 (int): Mass of the second type of coin in grams (default is 10 g).\n",
    "\n",
    "    Returns:\n",
    "    list: Possible numbers of coins and their probabilities.\n",
    "    \"\"\"\n",
    "    # Iterate over possible numbers for the first type of coin\n",
    "    probabilities = {}\n",
    "    for n1 in range(0, m_block // m_coin1 + 2):\n",
    "        # Calculate the remaining mass after using n1 coins of type 1\n",
    "        remaining_mass = m_block - n1 * m_coin1\n",
    "        if remaining_mass <= 0:\n",
    "            n2 = 0\n",
    "        else:\n",
    "            n2 = remaining_mass // m_coin2 + 1\n",
    "        n_tot = n1 + n2\n",
    "        # Calculate the binomial probability for this combination\n",
    "        prob = stats.binom.pmf(n2, n_tot, p2)\n",
    "        if n_tot not in probabilities:\n",
    "            probabilities[n_tot] = 0\n",
    "        probabilities[n_tot] += prob\n",
    "\n",
    "    # Normalize probabilities - subtle ordering issue not taken into account\n",
    "    total_prob = sum(probabilities.values())\n",
    "    for n in probabilities:\n",
    "        probabilities[n] /= total_prob\n",
    "    return probabilities"
   ],
   "id": "67717db77247c96c",
   "outputs": [],
   "execution_count": 2
  },
  {
   "metadata": {
    "ExecuteTime": {
     "end_time": "2025-05-28T10:11:46.880810Z",
     "start_time": "2025-05-28T10:11:46.864962Z"
    }
   },
   "cell_type": "code",
   "source": "# Step 2: Test the model with p2 = 0.25\n",
   "id": "825dd0f142675b27",
   "outputs": [],
   "execution_count": 3
  },
  {
   "metadata": {
    "ExecuteTime": {
     "end_time": "2025-05-28T10:13:49.546485Z",
     "start_time": "2025-05-28T10:13:49.530851Z"
    }
   },
   "cell_type": "code",
   "source": [
    "# Step 3: Show the possible outcomes (hozizontal axis) for block masses between 50 and 90 g (vertical axis). Indicate the probability of each outcome for a given mass by writing the value next to the point in the plot.\n",
    "\n",
    "m_block_range = np.arange(51, 90, 2)  # odd block masses from 51 to 89 g\n",
    "probabilities_all = {}\n",
    "for m_block in m_block_range:\n",
    "    probabilities = get_probabilities(m_block, p2)\n",
    "    probabilities_all[m_block] = probabilities\n",
    "# Make a plot\n",
    "plt.figure(figsize=(12, 8))\n",
    "for m_block in probabilities_all:\n",
    "    probs = probabilities_all[m_block]\n",
    "    coin_possibilities = list(probs.keys())\n",
    "    plt.plot(coin_possibilities, [m_block]*len(coin_possibilities), 'ro-', markersize=8)\n",
    "\n",
    "    for n_coins, prob in probs.items():\n",
    "        plt.text(n_coins, m_block, f\"{prob:.2f}\", fontsize=12, ha='center', va='bottom')\n",
    "plt.title(\"Possible numbers of coins needed to exceed the mass of the block\")\n",
    "plt.xlabel(\"Number of coins\")\n",
    "plt.ylabel(\"Mass of the block (g)\")\n",
    "plt.grid()\n",
    "plt.ylim(50, 90)\n",
    "plt.show()"
   ],
   "id": "e2ef7fb5272195d4",
   "outputs": [],
   "execution_count": 4
  },
  {
   "metadata": {},
   "cell_type": "code",
   "outputs": [],
   "execution_count": null,
   "source": [
    "# Step 4: Define a likelihood function for the mass of the block\n",
    "\n",
    "\n",
    "# Plot the likelihood function for a measurement of 8 coins"
   ],
   "id": "9a871c0c22a2bdf8"
  },
  {
   "metadata": {},
   "cell_type": "code",
   "outputs": [],
   "execution_count": null,
   "source": [
    "# Step 5: Define the posterior probability distribution for the mass of the block\n",
    "\n",
    "\n",
    "# Plot the posterior probability distribution for the mass of the block for a measurement of 8 coins"
   ],
   "id": "4a25aee687942572"
  },
  {
   "metadata": {},
   "cell_type": "code",
   "outputs": [],
   "execution_count": null,
   "source": "# Step 6: Find the point estimates for the mass of the block that can be reported if 8 coins were needed to exceed the mass of the block.",
   "id": "301eb8f0e0179dd3"
  },
  {
   "metadata": {},
   "cell_type": "code",
   "outputs": [],
   "execution_count": null,
   "source": "# Step 7: Produce a confidence interval that can be reported for the mass of the block if 8 coins were needed to exceed the mass of the block.",
   "id": "1d40a08cfecc29ef"
  },
  {
   "metadata": {},
   "cell_type": "code",
   "outputs": [],
   "execution_count": null,
   "source": "# Step 8: Produce a credible interval that can be reported for the mass of the block if 8 coins were needed to exceed the mass of the block.\n",
   "id": "2fe8cd79f64a6c7c"
  }
 ],
 "metadata": {
  "kernelspec": {
   "display_name": "Python 3",
   "language": "python",
   "name": "python3"
  },
  "language_info": {
   "codemirror_mode": {
    "name": "ipython",
    "version": 2
   },
   "file_extension": ".py",
   "mimetype": "text/x-python",
   "name": "python",
   "nbconvert_exporter": "python",
   "pygments_lexer": "ipython2",
   "version": "2.7.6"
  }
 },
 "nbformat": 4,
 "nbformat_minor": 5
}
