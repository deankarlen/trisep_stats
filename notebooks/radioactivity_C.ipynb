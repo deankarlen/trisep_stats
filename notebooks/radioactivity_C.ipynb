{
 "cells": [
  {
   "cell_type": "markdown",
   "id": "52aff5f9-91d9-4e4d-91b7-eb30f6559f02",
   "metadata": {},
   "source": [
    "# 1.C: Frequentist analysis of the radioactivity experiment (1 parameter)\n",
    "\n",
    "**Question:** What is the activity of this radioactive source? \n",
    "\n",
    "Since the outcome of the experiment is unpredictable, the answer to the question can only be probabilistic, not definitive. Instead of a single value, a range of possible values must be given (an *interval*) along with a probability qualifier.\n",
    "\n",
    "The method you use depends on your precise definition of probability. This tutorial shows the approach for Frequentist probability."
   ]
  },
  {
   "cell_type": "code",
   "id": "c9305033-5606-4f9b-b1f4-bb80b89ce692",
   "metadata": {
    "ExecuteTime": {
     "end_time": "2025-06-17T21:49:01.044932Z",
     "start_time": "2025-06-17T21:49:00.200829Z"
    }
   },
   "source": [
    "# Import modules needed for this tutorial\n",
    "\n",
    "from trisep.RadioactiveSource import RadioactiveSource\n",
    "from trisep.RadiationCounter import RadiationCounter, SimulatedRadiationCounter\n",
    "\n",
    "import numpy as np\n",
    "from scipy import stats\n",
    "\n",
    "%matplotlib inline\n",
    "import matplotlib.pyplot as plt\n",
    "plt.style.use('dark_background') # only include this if you use a dark background for Jupyter Lab"
   ],
   "outputs": [],
   "execution_count": 1
  },
  {
   "cell_type": "markdown",
   "id": "079779a8-00c0-4af9-ae54-2b860c5068d0",
   "metadata": {},
   "source": [
    "## Frequentist confidence interval\n",
    "\n",
    "Suppose the experiment records 6 decays in 10 seconds:\n",
    "- For some values for activity, the observation (6 counts) would seem anomalous \n",
    "  - For example, if the activity was 2 Bq, it would seem unusual to record 6 (or fewer) decays in 10 seconds"
   ]
  },
  {
   "cell_type": "code",
   "id": "d5b576c7-223c-47bd-8627-49f5b3d60785",
   "metadata": {
    "ExecuteTime": {
     "end_time": "2025-06-17T21:58:30.165134Z",
     "start_time": "2025-06-17T21:58:30.031969Z"
    }
   },
   "source": [
    "# Does it appear reasonable that the lab source activity is 0.6 Bq?\n",
    "# Does it appear reasonable that the lab source activity is 2.0 Bq?\n",
    "\n",
    "sim_source = RadioactiveSource(2.) # specifies the activity of simulated source\n",
    "sim_detector = SimulatedRadiationCounter() # this is NOT the lab detector, just a simulation of a detector\n",
    "\n",
    "sim_detector.insert_calibration_source(sim_source)\n",
    "sim_detector.set_counting_time(10)\n",
    "\n",
    "sim_counts = sim_detector.get_data(1000)\n",
    "\n",
    "plt.hist(sim_counts,bins=np.arange(0.,40.,0.5), align='left')\n",
    "plt.show()"
   ],
   "outputs": [
    {
     "name": "stdout",
     "output_type": "stream",
     "text": [
      "Simulated detector built. Counting time = 10.0 Efficiency = 1.0 Background rate= 0.0 (Hz)\n"
     ]
    },
    {
     "data": {
      "text/plain": [
       "<Figure size 640x480 with 1 Axes>"
      ],
      "image/png": "[encoded data removed]"
     },
     "metadata": {},
     "output_type": "display_data"
    }
   ],
   "execution_count": 8
  },
  {
   "cell_type": "markdown",
   "id": "84319ea2-ed22-43bd-b016-19e7556257f4",
   "metadata": {},
   "source": [
    "The likelihood to see 6 or fewer counts from a source of activity 2 Bq appears to be small indeed. How can we quantify that?\n",
    "\n",
    "\n"
   ]
  },
  {
   "cell_type": "code",
   "id": "f88de65c-2339-4a6a-ad33-43cf70b64e54",
   "metadata": {
    "ExecuteTime": {
     "end_time": "2025-06-17T21:53:01.136352Z",
     "start_time": "2025-06-17T21:53:01.110961Z"
    }
   },
   "source": [
    "# Look to see how often such a small number of counts occur:\n",
    "\n",
    "sim_source.set_activity(2.)\n",
    "\n",
    "observed = 6\n",
    "trials = 100000\n",
    "low_counts = 0\n",
    "\n",
    "sim_data = sim_detector.get_data(trials)\n",
    "# count how many times the simulated detector records 6 or fewer counts:\n",
    "for i in range(trials):\n",
    "    if sim_data[i] <= observed:\n",
    "        low_counts += 1\n",
    "    \n",
    "print(observed,'or less counts occurred in',low_counts,'of',trials,'trials')"
   ],
   "outputs": [
    {
     "name": "stdout",
     "output_type": "stream",
     "text": [
      "6 or less counts occurred in 18 of 100000 trials\n"
     ]
    }
   ],
   "execution_count": 3
  },
  {
   "metadata": {},
   "cell_type": "markdown",
   "source": [
    "### Quantifying anomalous behaviour: p-value\n",
    "\n",
    "In frequentist statistics, the p-value is the probability of observing a result at least as extreme as the one actually observed, assuming that the null hypothesis is true.\n",
    "\n",
    "In this case, the null hypothesis is that the source activity is 2 Bq.\n",
    "The p-value is calculated as the fraction of trials that recorded 6 or fewer counts, given that the source activity is 2 Bq."
   ],
   "id": "ae84438d9927a00b"
  },
  {
   "metadata": {
    "ExecuteTime": {
     "end_time": "2025-06-17T21:55:25.014466Z",
     "start_time": "2025-06-17T21:55:25.005610Z"
    }
   },
   "cell_type": "code",
   "source": [
    "# calculate the p-value for the hypothesis that the source activity is 2 Bq\n",
    "p_value = low_counts / trials\n",
    "print('p-value for the hypothesis that the source activity is 2 Bq:', p_value)"
   ],
   "id": "2423ed1b8d32c6a5",
   "outputs": [
    {
     "name": "stdout",
     "output_type": "stream",
     "text": [
      "p-value for the hypothesis that the source activity is 2 Bq: 0.00018\n"
     ]
    }
   ],
   "execution_count": 5
  },
  {
   "metadata": {},
   "cell_type": "markdown",
   "source": [
    "### Hypothesis test\n",
    "\n",
    "If in advance of the experiment you decide that a p-value of 0.05 or less is sufficient to reject the hypothesis, then you can conclude that the hypothesis that the source activity is 2 Bq is rejected at the 95% confidence level (CL).\n",
    "\n",
    "If the p-value is greater than 0.05, then the hypothesis is not rejected at the 95% CL."
   ],
   "id": "af6aa30392c96c8"
  },
  {
   "cell_type": "markdown",
   "id": "22a42858-ec44-46f9-971b-a1454f25c2f0",
   "metadata": {},
   "source": [
    "## Upper confidence interval\n",
    "\n",
    "A very small fraction of experiments with a 2 Bq source would see 6 or fewer counts in 10 seconds.\n",
    "\n",
    "The study above is a one-sided test of the hypothesis that the source activity is 2 Bq.\n",
    " - one-sided: Alternative hypotheses under consideration have activities lower than 2 Bq.\n",
    " - in other words, only very low counts are considered to be anomalous\n",
    "\n",
    "What activity values are not rejected at 95% CL?\n",
    " - Those activity values constitute the *95% upper confidence interval*, $[0,a^{upper}_{95}]$.\n",
    "\n",
    "Confidence intervals are produced by following a recipe like this, decided upon before seeing data. The recipe is valid provided that\n",
    "at least 95% of intervals contain the true value, if the model is correct.\n",
    "\n",
    "For this example, if the true activity happens to be $a^{upper}_{95}$, the hypothesis test rejects the true hypothesis exactly 5% of repeated experiments. It is for those rare outcomes that the reported interval will not contain the true value, whereas the other experiments will report an interval containing the true value.\n",
    "\n",
    "**Question**: What is the value of $a^{upper}_{95}$ for this example?"
   ]
  },
  {
   "cell_type": "code",
   "id": "e0fc62a6-6668-44f3-8fbd-cdd87943415f",
   "metadata": {
    "ExecuteTime": {
     "end_time": "2025-06-17T21:55:55.067153Z",
     "start_time": "2025-06-17T21:55:47.439130Z"
    }
   },
   "source": [
    "# Find the 95% upper confidence limit for the activity, given that 6 counts were recorded\n",
    "\n",
    "# The 95% upper confidence limit is the activity value for which the p-value is 0.05\n",
    "# The p-value is the fraction of trials that recorded 6 or fewer counts, given that the source activity is a certain value\n",
    "\n",
    "def find_upper_confidence_limit(observed, trials, target_p_value):\n",
    "    activity = 0.5 # Start with a low activity value\n",
    "    while True:\n",
    "        sim_source.set_activity(activity)\n",
    "        sim_data = sim_detector.get_data(trials)\n",
    "        low_counts = sum(1 for count in sim_data if count <= observed)\n",
    "        p_value = low_counts / trials\n",
    "        if p_value <= target_p_value:\n",
    "            return activity\n",
    "        activity += 0.001  # Increment activity to search for the upper limit\n",
    "\n",
    "upper_limit_95 = find_upper_confidence_limit(observed, trials, 0.05)\n",
    "print(f'95% upper confidence limit for the activity: {upper_limit_95:.3f} Bq')"
   ],
   "outputs": [
    {
     "name": "stdout",
     "output_type": "stream",
     "text": [
      "95% upper confidence limit for the activity: 1.182 Bq\n"
     ]
    }
   ],
   "execution_count": 6
  },
  {
   "cell_type": "markdown",
   "id": "02ba0a11-1e05-41eb-b1c4-8b031ecd0bc8",
   "metadata": {
    "tags": []
   },
   "source": [
    "## Lower confidence interval and central confidence interval\n",
    "\n",
    "Follow the same approach, this time considering alternative hypotheses having higher actvities.\n",
    "\n",
    "The 95% lower confidence interval is $[a^{lower}_{95},\\infty]$.\n",
    "\n",
    "The 90% central confidence interval is $[a^{lower}_{95},a^{upper}_{95}]$."
   ]
  },
  {
   "cell_type": "markdown",
   "id": "6bbab83c-eb78-41dd-b8e5-ffc3adc5383e",
   "metadata": {},
   "source": [
    "## Frequentist central confidence interval - Summary\n",
    "\n",
    "The 90% central confidence interval is bounded by the 95% confidence lower limit\n",
    "and the 95% confidence level upper limit.\n",
    "\n",
    "The interval is [0.26,1.18]. You can use tables (eg. page 280 of the reference notes) to find the bounds.\n",
    "\n",
    "The result of this analysis can reported as $0.60^{+0.58}_{-0.34}$ at the 90% confidence level.\n",
    "\n",
    "**Question**: Can you form a sentence that clearly explains what that means,\n",
    "using the word \"probability\" and 90%?"
   ]
  },
  {
   "cell_type": "code",
   "execution_count": null,
   "id": "64df8645-f2d9-45ec-a111-52ee26bfcf7f",
   "metadata": {},
   "outputs": [],
   "source": []
  }
 ],
 "metadata": {
  "kernelspec": {
   "display_name": "Python 3.6 (with ROOT)",
   "language": "python",
   "name": "python3"
  },
  "language_info": {
   "codemirror_mode": {
    "name": "ipython",
    "version": 3
   },
   "file_extension": ".py",
   "mimetype": "text/x-python",
   "name": "python",
   "nbconvert_exporter": "python",
   "pygments_lexer": "ipython3",
   "version": "3.6.8"
  }
 },
 "nbformat": 4,
 "nbformat_minor": 5
}
