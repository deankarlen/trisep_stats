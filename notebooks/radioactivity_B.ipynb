{
 "cells": [
  {
   "cell_type": "markdown",
   "id": "2aac63ac-f592-4aef-be0b-a7e7ff3e3fb7",
   "metadata": {},
   "source": [
    "# 1.B: Model the radioactivity experiment\n",
    "\n",
    "**Question:** What is the activity of this radioactive source? \n",
    "\n",
    "Answering this question generally requires a mathematical representation of the experiment (aka a **Model**). \n",
    "\n",
    " - With the model, we can do two important things:\n",
    "   - produce simulated data (typically more quickly than with the actual experiment)\n",
    "   - calculate the probability (density) of data\n",
    "   \n",
    "Models are not intended to be perfect representations of actual experiments (\"all models are wrong\")\n",
    " - They can be useful when they: \n",
    "   - serve as a well defined reference\n",
    "   - capture important aspects of the system under study\n",
    "\n",
    "Challenge for this example: we don't know the true activity of the source (that is what we are trying to determine!)"
   ]
  },
  {
   "cell_type": "code",
   "id": "f4396c5c-86c0-4579-9532-c9b83bef9a94",
   "metadata": {
    "ExecuteTime": {
     "end_time": "2025-05-29T09:39:04.786373Z",
     "start_time": "2025-05-29T09:39:04.084173Z"
    }
   },
   "source": [
    "# Import modules needed for this tutorial\n",
    "\n",
    "from trisep.RadioactiveSource import RadioactiveSource\n",
    "from trisep.RadiationCounter import SimulatedRadiationCounter\n",
    "import numpy as np\n",
    "\n",
    "%matplotlib inline\n",
    "import matplotlib.pyplot as plt\n",
    "plt.style.use('dark_background') # only include this if you use a dark background for Jupyter Lab"
   ],
   "outputs": [],
   "execution_count": 1
  },
  {
   "cell_type": "markdown",
   "id": "6c24d6b7-bf40-4d8a-a8ff-4a35bbbc838f",
   "metadata": {},
   "source": [
    "### Construct the model of the experiment\n",
    "\n",
    " - a simulated radiactive source: Assume activity is 0.6 Bq\n",
    " - a simulated detector\n"
   ]
  },
  {
   "cell_type": "code",
   "execution_count": null,
   "id": "5837545f-a1e3-4328-ad74-d037c92e04b6",
   "metadata": {},
   "outputs": [],
   "source": [
    "simulated_source = RadioactiveSource(0.6) # specifies the activity of simulated source\n",
    "\n",
    "sim_detector = SimulatedRadiationCounter() # this is NOT the lab detector, just a simulation of a detector\n",
    "sim_detector.set_counting_time(10)\n",
    "sim_detector.insert_calibration_source(simulated_source)"
   ]
  },
  {
   "cell_type": "code",
   "execution_count": null,
   "id": "1fce7ecf-d30b-407a-a084-206631db288d",
   "metadata": {},
   "outputs": [],
   "source": [
    "# Make 1000 measurements with the simulated detector\n",
    "\n",
    "sim_counts = sim_detector.get_data(1000)\n",
    "\n",
    "plt.hist(sim_counts,bins=np.arange(0.,16.,0.5), align='left')\n",
    "plt.show()"
   ]
  },
  {
   "cell_type": "markdown",
   "id": "18b9e3d4-98d5-44f6-a07e-334d10a98abe",
   "metadata": {},
   "source": [
    "## Likelihood\n",
    "\n",
    "Just like the lab experiment, the simulated experiment does not give the same result for each repetition. Observing 6 decays is more likely than observing 10 decays for this model.\n",
    "\n",
    "Likelihood is the probability (probability density, in the case of a continuous observable) of producing the observation (according to the model)\n",
    "\n",
    "**Question**: What is the likelihood for the observation of 6 decays in 10 seconds if the true activity is 0.6 Bq?"
   ]
  },
  {
   "cell_type": "code",
   "execution_count": null,
   "id": "3649255b-ffe1-4caf-8789-8f4f773f10d7",
   "metadata": {},
   "outputs": [],
   "source": [
    "# Use the model to calculate the likelihood that a source with activity 0.6 Bq produces 6 decays in 10 seconds\n",
    "\n",
    "observed = 6\n",
    "simulated_source.set_activity(0.6)\n",
    "likelihood = sim_detector.get_likelihood(observed)\n",
    "print('Probability to see', observed,'decays is',round(likelihood,4))"
   ]
  },
  {
   "cell_type": "markdown",
   "id": "e3c65501-8c88-4fac-b500-399f85000390",
   "metadata": {},
   "source": [
    "## Likelihood function\n",
    "\n",
    "After observing the number of decays, $n$, the true activity remains unknown. The likelihood function is\n",
    "the probability of observing $n$, as a function of the unknown parameter, activity, $a$:\n",
    "\n",
    "$${\\cal L}(a) = P(n|a)$$\n",
    "\n",
    "Note that the likelihood function is considered to be a function of the parameter $a$ (the activity), not the data $n$. As such, it is NOT a probability distribution for the parameter $a$.\n",
    "\n",
    "A good way to estimate the parameter is to find the value which maximizes the likelihood."
   ]
  },
  {
   "cell_type": "code",
   "execution_count": null,
   "id": "bad56d0e-78ac-4624-be32-b0f47b3ca324",
   "metadata": {},
   "outputs": [],
   "source": [
    "# Make a plot of likelihood function (over the range 0.1 to 1.5 Bq)\n",
    "\n",
    "a_values = np.arange(0.1,1.5,0.01)\n",
    "likelihood_values = []\n",
    "\n"
   ]
  },
  {
   "cell_type": "markdown",
   "id": "f57fd06d-ff8d-4a07-8ec1-627011c7585f",
   "metadata": {},
   "source": [
    "**Question**: For this problem, is the likelihood always maximum at $\\hat{a} = n / t$?\n",
    "\n",
    "**Answer**: Yes. We can show this mathematically.\n",
    " - Derive the probability distribution that applies (Poisson distribution) given the parameter $a$.\n",
    "   - $N$ is a *random variable* - in this example it is represented by the sim_detector.get_count() method\n",
    "   - $n$ is an outcome of the random variable (aka *random variate*) - it is represented by a value returned by the get_count() method\n",
    " - Maximize the likelihood function analytically (by setting $\\partial {\\cal L}(a)/\\partial a|_{a=\\hat{a}} = 0$)"
   ]
  },
  {
   "cell_type": "markdown",
   "id": "623fbebe-af6f-4ea8-ac02-2be565abf356",
   "metadata": {},
   "source": [
    "## Common method to find an approximate 68% or 90% confidence interval\n",
    "\n",
    "The parameter range for which the log likelihood is within 0.5 of the maximum log likelihood\n",
    "is a frequently used method to report an approximate 68% confidence interval. For a 90%\n",
    "confidence interval replace 0.5 by 1.36.\n",
    "\n",
    "Note: This approach does not rely on repeating the actual experiment, unlike in section 1A."
   ]
  },
  {
   "cell_type": "code",
   "execution_count": null,
   "id": "a7fb0f16-5245-4b40-81fa-b0310366e1d0",
   "metadata": {},
   "outputs": [],
   "source": [
    "# find the point estimate and approximate confidence intervals by brute force\n",
    "\n",
    "cl = '68'\n",
    "delta_ll = {'68':0.5, '90':1.36}\n",
    "\n",
    "arg_max = np.argmax(likelihood_values)\n",
    "max_l = likelihood_values[arg_max]\n",
    "\n",
    "dll = []\n",
    "for lv in likelihood_values:\n",
    "    dll.append(np.log(lv)-np.log(max_l))\n",
    "\n",
    "half = int(len(a_values)/2)\n",
    "dllo = np.abs(np.array(dll)+delta_ll[cl])\n",
    "a_low = round(a_values[np.argmin(dllo[:half])],2)\n",
    "a_high = round(a_values[half+np.argmin(dllo[half:])],2)\n",
    "\n",
    "plt.plot(a_values,dll)\n",
    "plt.ylabel('delta log likelihood')\n",
    "plt.xlabel('activity')\n",
    "plt.axhline(y=-delta_ll[cl],ls='--')\n",
    "plt.axvline(x=a_low,ls=':')\n",
    "plt.axvline(x=a_high,ls=':')\n",
    "plt.show()\n",
    "\n",
    "print('Point estimate =',round(a_values[arg_max],2),\n",
    "      'and approximate '+cl+'% interval = [',a_low,',',a_high,']')"
   ]
  }
 ],
 "metadata": {
  "kernelspec": {
   "display_name": "Python 3.6 (with ROOT)",
   "language": "python",
   "name": "python3"
  },
  "language_info": {
   "codemirror_mode": {
    "name": "ipython",
    "version": 3
   },
   "file_extension": ".py",
   "mimetype": "text/x-python",
   "name": "python",
   "nbconvert_exporter": "python",
   "pygments_lexer": "ipython3",
   "version": "3.6.8"
  }
 },
 "nbformat": 4,
 "nbformat_minor": 5
}
