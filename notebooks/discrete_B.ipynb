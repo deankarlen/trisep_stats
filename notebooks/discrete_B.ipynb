{
 "cells": [
  {
   "metadata": {},
   "cell_type": "markdown",
   "source": [
    "## Discrete Measurement of the mass of a block\n",
    "\n",
    "Consider the discrete measurement of the mass of a block using coins and a balance:\n",
    " * We place coins on the balance until the balance tilts, showing that the mass of the coins is greater than the mass of the block. We report the minimum number of coins that exceed the mass of the block.\n",
    " * To ensure that the measurement is reproducible:\n",
    "   * The mass of each coin is an even number of grams\n",
    "   * The mass of the block is an odd number of grams\n",
    "   * The balance is well designed and lubricated. The difference of one gram will always tip the balance towards the more massive side.\n",
    "\n",
    "### Model #2\n",
    "\n",
    " * some coins are 8 g and some are 10 g.\n",
    "\n",
    "### Interpreting the result\n",
    "\n",
    " * Can we report a point estimate for the mass of the block?\n",
    " * What are the confidence and credible intervals for the mass of the block?"
   ],
   "id": "acb15cc8a3a9ff7f"
  },
  {
   "cell_type": "code",
   "id": "initial_id",
   "metadata": {
    "collapsed": true,
    "ExecuteTime": {
     "end_time": "2025-05-28T10:08:58.628970Z",
     "start_time": "2025-05-28T10:08:58.289344Z"
    }
   },
   "source": [
    "import numpy as np\n",
    "import matplotlib.pyplot as plt"
   ],
   "outputs": [],
   "execution_count": 1
  },
  {
   "metadata": {
    "ExecuteTime": {
     "end_time": "2025-05-28T10:11:11.749685Z",
     "start_time": "2025-05-28T10:11:11.733563Z"
    }
   },
   "cell_type": "code",
   "source": "# Step 1: Model the experiment\n",
   "id": "67717db77247c96c",
   "outputs": [],
   "execution_count": 2
  },
  {
   "metadata": {
    "ExecuteTime": {
     "end_time": "2025-05-28T10:11:46.880810Z",
     "start_time": "2025-05-28T10:11:46.864962Z"
    }
   },
   "cell_type": "code",
   "source": "# Step 2: Test the model\n",
   "id": "825dd0f142675b27",
   "outputs": [],
   "execution_count": 3
  },
  {
   "metadata": {
    "ExecuteTime": {
     "end_time": "2025-05-28T10:13:49.546485Z",
     "start_time": "2025-05-28T10:13:49.530851Z"
    }
   },
   "cell_type": "code",
   "source": "# Step 3: Show the possible outcomes (hozizontal axis) for block masses between 50 and 90 g (vertical axis)\n",
   "id": "e2ef7fb5272195d4",
   "outputs": [],
   "execution_count": 4
  },
  {
   "metadata": {},
   "cell_type": "code",
   "outputs": [],
   "execution_count": null,
   "source": "# Step 4: Having no information about the number of 8g and 10g coins could have been involved in the measurement, can we define a likelihood function for the mass of the block?\n",
   "id": "9a871c0c22a2bdf8"
  },
  {
   "metadata": {},
   "cell_type": "code",
   "outputs": [],
   "execution_count": null,
   "source": "# Step 5: Having no information about the number of 8g and 10g coins could have been involved in the measurement, can we define the posterior probability distribution for the mass of the block?\n",
   "id": "4a25aee687942572"
  },
  {
   "metadata": {},
   "cell_type": "code",
   "outputs": [],
   "execution_count": null,
   "source": "# Step 6: is there a point estimate for the mass of the block?",
   "id": "301eb8f0e0179dd3"
  },
  {
   "metadata": {},
   "cell_type": "code",
   "outputs": [],
   "execution_count": null,
   "source": "# Step 7: Comment on possible confidence intervals that can be reported for the mass of the block if 8 coins were needed to exceed the mass of the block.",
   "id": "1d40a08cfecc29ef"
  },
  {
   "metadata": {},
   "cell_type": "code",
   "outputs": [],
   "execution_count": null,
   "source": "# Step 8: Comment on possible credible intervals that can be reported for the mass of the block if 8 coins were needed to exceed the mass of the block.\n",
   "id": "2fe8cd79f64a6c7c"
  }
 ],
 "metadata": {
  "kernelspec": {
   "display_name": "Python 3",
   "language": "python",
   "name": "python3"
  },
  "language_info": {
   "codemirror_mode": {
    "name": "ipython",
    "version": 2
   },
   "file_extension": ".py",
   "mimetype": "text/x-python",
   "name": "python",
   "nbconvert_exporter": "python",
   "pygments_lexer": "ipython2",
   "version": "2.7.6"
  }
 },
 "nbformat": 4,
 "nbformat_minor": 5
}
